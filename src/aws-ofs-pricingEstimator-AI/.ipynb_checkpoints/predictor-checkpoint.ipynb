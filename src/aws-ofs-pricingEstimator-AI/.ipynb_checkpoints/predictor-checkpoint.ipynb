{
 "cells": [
  {
   "cell_type": "code",
   "execution_count": 1,
   "id": "25546855",
   "metadata": {},
   "outputs": [],
   "source": [
    "import pandas as pd\n",
    "import numpy as np"
   ]
  },
  {
   "cell_type": "code",
   "execution_count": 2,
   "id": "b368aa73",
   "metadata": {},
   "outputs": [
    {
     "data": {
      "text/html": [
       "<div>\n",
       "<style scoped>\n",
       "    .dataframe tbody tr th:only-of-type {\n",
       "        vertical-align: middle;\n",
       "    }\n",
       "\n",
       "    .dataframe tbody tr th {\n",
       "        vertical-align: top;\n",
       "    }\n",
       "\n",
       "    .dataframe thead th {\n",
       "        text-align: right;\n",
       "    }\n",
       "</style>\n",
       "<table border=\"1\" class=\"dataframe\">\n",
       "  <thead>\n",
       "    <tr style=\"text-align: right;\">\n",
       "      <th></th>\n",
       "      <th>id</th>\n",
       "      <th>vertical</th>\n",
       "      <th>FS</th>\n",
       "      <th>description</th>\n",
       "      <th>price</th>\n",
       "    </tr>\n",
       "  </thead>\n",
       "  <tbody>\n",
       "    <tr>\n",
       "      <th>0</th>\n",
       "      <td>0</td>\n",
       "      <td>education</td>\n",
       "      <td>IT DEV Specialist</td>\n",
       "      <td>Skilled in programming languages such as Java</td>\n",
       "      <td>54</td>\n",
       "    </tr>\n",
       "    <tr>\n",
       "      <th>1</th>\n",
       "      <td>1</td>\n",
       "      <td>education</td>\n",
       "      <td>IT DEV Specialist</td>\n",
       "      <td>Experienced in developing and maintaining com...</td>\n",
       "      <td>55</td>\n",
       "    </tr>\n",
       "    <tr>\n",
       "      <th>2</th>\n",
       "      <td>2</td>\n",
       "      <td>education</td>\n",
       "      <td>IT DEV Specialist</td>\n",
       "      <td>Knowledgeable in Agile development methodolog...</td>\n",
       "      <td>53</td>\n",
       "    </tr>\n",
       "    <tr>\n",
       "      <th>3</th>\n",
       "      <td>3</td>\n",
       "      <td>education</td>\n",
       "      <td>IT DEV Specialist</td>\n",
       "      <td>Strong problem-solving skills and ability to ...</td>\n",
       "      <td>55</td>\n",
       "    </tr>\n",
       "    <tr>\n",
       "      <th>4</th>\n",
       "      <td>4</td>\n",
       "      <td>education</td>\n",
       "      <td>IT DEV Specialist</td>\n",
       "      <td>Proficient in using development tools such as...</td>\n",
       "      <td>52</td>\n",
       "    </tr>\n",
       "    <tr>\n",
       "      <th>...</th>\n",
       "      <td>...</td>\n",
       "      <td>...</td>\n",
       "      <td>...</td>\n",
       "      <td>...</td>\n",
       "      <td>...</td>\n",
       "    </tr>\n",
       "    <tr>\n",
       "      <th>135</th>\n",
       "      <td>138</td>\n",
       "      <td>education</td>\n",
       "      <td>Pure Math teacher</td>\n",
       "      <td>Strong understanding of the importance of fos...</td>\n",
       "      <td>21</td>\n",
       "    </tr>\n",
       "    <tr>\n",
       "      <th>136</th>\n",
       "      <td>139</td>\n",
       "      <td>education</td>\n",
       "      <td>Pure Math teacher</td>\n",
       "      <td>Proficient in using formative and summative a...</td>\n",
       "      <td>23</td>\n",
       "    </tr>\n",
       "    <tr>\n",
       "      <th>137</th>\n",
       "      <td>140</td>\n",
       "      <td>education</td>\n",
       "      <td>Pure Math teacher</td>\n",
       "      <td>Experienced in creating engaging and interact...</td>\n",
       "      <td>24</td>\n",
       "    </tr>\n",
       "    <tr>\n",
       "      <th>138</th>\n",
       "      <td>141</td>\n",
       "      <td>education</td>\n",
       "      <td>Pure Math teacher</td>\n",
       "      <td>Skilled in providing opportunities for hands-...</td>\n",
       "      <td>23</td>\n",
       "    </tr>\n",
       "    <tr>\n",
       "      <th>139</th>\n",
       "      <td>142</td>\n",
       "      <td>education</td>\n",
       "      <td>Pure Math teacher</td>\n",
       "      <td>Adept at using data to inform instruction and...</td>\n",
       "      <td>21</td>\n",
       "    </tr>\n",
       "  </tbody>\n",
       "</table>\n",
       "<p>140 rows × 5 columns</p>\n",
       "</div>"
      ],
      "text/plain": [
       "      id   vertical                 FS  \\\n",
       "0      0  education  IT DEV Specialist   \n",
       "1      1  education  IT DEV Specialist   \n",
       "2      2  education  IT DEV Specialist   \n",
       "3      3  education  IT DEV Specialist   \n",
       "4      4  education  IT DEV Specialist   \n",
       "..   ...        ...                ...   \n",
       "135  138  education  Pure Math teacher   \n",
       "136  139  education  Pure Math teacher   \n",
       "137  140  education  Pure Math teacher   \n",
       "138  141  education  Pure Math teacher   \n",
       "139  142  education  Pure Math teacher   \n",
       "\n",
       "                                           description  price  \n",
       "0        Skilled in programming languages such as Java     54  \n",
       "1     Experienced in developing and maintaining com...     55  \n",
       "2     Knowledgeable in Agile development methodolog...     53  \n",
       "3     Strong problem-solving skills and ability to ...     55  \n",
       "4     Proficient in using development tools such as...     52  \n",
       "..                                                 ...    ...  \n",
       "135   Strong understanding of the importance of fos...     21  \n",
       "136   Proficient in using formative and summative a...     23  \n",
       "137   Experienced in creating engaging and interact...     24  \n",
       "138   Skilled in providing opportunities for hands-...     23  \n",
       "139   Adept at using data to inform instruction and...     21  \n",
       "\n",
       "[140 rows x 5 columns]"
      ]
     },
     "execution_count": 2,
     "metadata": {},
     "output_type": "execute_result"
    }
   ],
   "source": [
    "df = pd.read_csv(\"education vertical dataset.csv\")\n",
    "df"
   ]
  },
  {
   "cell_type": "code",
   "execution_count": 3,
   "id": "1f7365b3",
   "metadata": {},
   "outputs": [
    {
     "data": {
      "text/html": [
       "<div>\n",
       "<style scoped>\n",
       "    .dataframe tbody tr th:only-of-type {\n",
       "        vertical-align: middle;\n",
       "    }\n",
       "\n",
       "    .dataframe tbody tr th {\n",
       "        vertical-align: top;\n",
       "    }\n",
       "\n",
       "    .dataframe thead th {\n",
       "        text-align: right;\n",
       "    }\n",
       "</style>\n",
       "<table border=\"1\" class=\"dataframe\">\n",
       "  <thead>\n",
       "    <tr style=\"text-align: right;\">\n",
       "      <th></th>\n",
       "      <th>description</th>\n",
       "      <th>price</th>\n",
       "    </tr>\n",
       "  </thead>\n",
       "  <tbody>\n",
       "    <tr>\n",
       "      <th>0</th>\n",
       "      <td>Skilled in programming languages such as Java</td>\n",
       "      <td>54</td>\n",
       "    </tr>\n",
       "    <tr>\n",
       "      <th>1</th>\n",
       "      <td>Experienced in developing and maintaining com...</td>\n",
       "      <td>55</td>\n",
       "    </tr>\n",
       "    <tr>\n",
       "      <th>2</th>\n",
       "      <td>Knowledgeable in Agile development methodolog...</td>\n",
       "      <td>53</td>\n",
       "    </tr>\n",
       "    <tr>\n",
       "      <th>3</th>\n",
       "      <td>Strong problem-solving skills and ability to ...</td>\n",
       "      <td>55</td>\n",
       "    </tr>\n",
       "    <tr>\n",
       "      <th>4</th>\n",
       "      <td>Proficient in using development tools such as...</td>\n",
       "      <td>52</td>\n",
       "    </tr>\n",
       "    <tr>\n",
       "      <th>...</th>\n",
       "      <td>...</td>\n",
       "      <td>...</td>\n",
       "    </tr>\n",
       "    <tr>\n",
       "      <th>135</th>\n",
       "      <td>Strong understanding of the importance of fos...</td>\n",
       "      <td>21</td>\n",
       "    </tr>\n",
       "    <tr>\n",
       "      <th>136</th>\n",
       "      <td>Proficient in using formative and summative a...</td>\n",
       "      <td>23</td>\n",
       "    </tr>\n",
       "    <tr>\n",
       "      <th>137</th>\n",
       "      <td>Experienced in creating engaging and interact...</td>\n",
       "      <td>24</td>\n",
       "    </tr>\n",
       "    <tr>\n",
       "      <th>138</th>\n",
       "      <td>Skilled in providing opportunities for hands-...</td>\n",
       "      <td>23</td>\n",
       "    </tr>\n",
       "    <tr>\n",
       "      <th>139</th>\n",
       "      <td>Adept at using data to inform instruction and...</td>\n",
       "      <td>21</td>\n",
       "    </tr>\n",
       "  </tbody>\n",
       "</table>\n",
       "<p>140 rows × 2 columns</p>\n",
       "</div>"
      ],
      "text/plain": [
       "                                           description  price\n",
       "0        Skilled in programming languages such as Java     54\n",
       "1     Experienced in developing and maintaining com...     55\n",
       "2     Knowledgeable in Agile development methodolog...     53\n",
       "3     Strong problem-solving skills and ability to ...     55\n",
       "4     Proficient in using development tools such as...     52\n",
       "..                                                 ...    ...\n",
       "135   Strong understanding of the importance of fos...     21\n",
       "136   Proficient in using formative and summative a...     23\n",
       "137   Experienced in creating engaging and interact...     24\n",
       "138   Skilled in providing opportunities for hands-...     23\n",
       "139   Adept at using data to inform instruction and...     21\n",
       "\n",
       "[140 rows x 2 columns]"
      ]
     },
     "execution_count": 3,
     "metadata": {},
     "output_type": "execute_result"
    }
   ],
   "source": [
    "df = df[['description','price']]\n",
    "df"
   ]
  },
  {
   "cell_type": "code",
   "execution_count": 26,
   "id": "8c4e4007",
   "metadata": {},
   "outputs": [],
   "source": [
    "# Libraries \n",
    "from tensorflow.keras.preprocessing.text import Tokenizer\n",
    "from keras.models import Sequential\n",
    "from keras.layers import Dense, Embedding, LSTM\n",
    "from sklearn.model_selection import train_test_split\n",
    "from tensorflow.keras.preprocessing.sequence import pad_sequences"
   ]
  },
  {
   "cell_type": "code",
   "execution_count": 27,
   "id": "25afae52",
   "metadata": {},
   "outputs": [],
   "source": [
    "tokenizer = Tokenizer()\n",
    "tokenizer.fit_on_texts(df['description'])\n",
    "descriptions_sequences = tokenizer.texts_to_sequences(df['description'])"
   ]
  },
  {
   "cell_type": "code",
   "execution_count": 28,
   "id": "5a0b8c0b",
   "metadata": {},
   "outputs": [],
   "source": [
    "max_length = max([len(s) for s in descriptions_sequences])\n",
    "descriptions_sequences = pad_sequences(descriptions_sequences, maxlen=max_length)"
   ]
  },
  {
   "cell_type": "code",
   "execution_count": 29,
   "id": "572f0727",
   "metadata": {},
   "outputs": [],
   "source": [
    "X_train, X_test, y_train, y_test = train_test_split(descriptions_sequences, df['price'], test_size=0.2)"
   ]
  },
  {
   "cell_type": "code",
   "execution_count": 38,
   "id": "ceac2f3b",
   "metadata": {},
   "outputs": [],
   "source": [
    "model = Sequential()\n",
    "model.add(Embedding(input_dim=len(tokenizer.word_index)+1, output_dim=100, input_length=max_length))\n",
    "model.add(LSTM(100, dropout=0.2, recurrent_dropout=0.2))\n",
    "model.add(Dense(1, activation='linear'))\n",
    "model.compile(loss='mean_squared_error', optimizer='adam', metrics=['mean_absolute_error'])"
   ]
  },
  {
   "cell_type": "code",
   "execution_count": 39,
   "id": "e7fd5443",
   "metadata": {
    "scrolled": false
   },
   "outputs": [
    {
     "name": "stdout",
     "output_type": "stream",
     "text": [
      "Epoch 1/10\n",
      "4/4 [==============================] - 2s 11ms/step - loss: 9495.2744 - mean_absolute_error: 80.0072\n",
      "Epoch 2/10\n",
      "4/4 [==============================] - 0s 13ms/step - loss: 9466.6006 - mean_absolute_error: 79.8353\n",
      "Epoch 3/10\n",
      "4/4 [==============================] - 0s 12ms/step - loss: 9390.4912 - mean_absolute_error: 79.3655\n",
      "Epoch 4/10\n",
      "4/4 [==============================] - 0s 11ms/step - loss: 9135.6699 - mean_absolute_error: 77.6589\n",
      "Epoch 5/10\n",
      "4/4 [==============================] - 0s 11ms/step - loss: 8584.8525 - mean_absolute_error: 74.1191\n",
      "Epoch 6/10\n",
      "4/4 [==============================] - 0s 13ms/step - loss: 8280.6738 - mean_absolute_error: 72.0153\n",
      "Epoch 7/10\n",
      "4/4 [==============================] - 0s 12ms/step - loss: 8071.8394 - mean_absolute_error: 70.5417\n",
      "Epoch 8/10\n",
      "4/4 [==============================] - 0s 11ms/step - loss: 7897.4209 - mean_absolute_error: 69.3189\n",
      "Epoch 9/10\n",
      "4/4 [==============================] - 0s 12ms/step - loss: 7756.7031 - mean_absolute_error: 68.3166\n",
      "Epoch 10/10\n",
      "4/4 [==============================] - 0s 12ms/step - loss: 7643.4077 - mean_absolute_error: 67.4530\n"
     ]
    },
    {
     "data": {
      "text/plain": [
       "<keras.callbacks.History at 0x26b7a081220>"
      ]
     },
     "execution_count": 39,
     "metadata": {},
     "output_type": "execute_result"
    }
   ],
   "source": [
    "# Train the model\n",
    "model.fit(X_train, y_train, batch_size=32, epochs=10)"
   ]
  },
  {
   "cell_type": "code",
   "execution_count": 40,
   "id": "a8033d3c",
   "metadata": {},
   "outputs": [
    {
     "name": "stdout",
     "output_type": "stream",
     "text": [
      "1/1 [==============================] - 0s 177ms/step\n",
      "[[13.131153]]\n"
     ]
    }
   ],
   "source": [
    "# use the model to predict a price for a new description\n",
    "new_description = [\"great programmer\"]\n",
    "new_description_sequence = tokenizer.texts_to_sequences([new_description])\n",
    "new_description_sequence = pad_sequences(new_description_sequence, maxlen=max_length)\n",
    "predicted_price = model.predict(new_description_sequence)\n",
    "print(predicted_price)"
   ]
  },
  {
   "cell_type": "code",
   "execution_count": 41,
   "id": "c9cfbb60",
   "metadata": {},
   "outputs": [],
   "source": [
    "# unsable model, average programmer price 50-55 based on data. "
   ]
  }
 ],
 "metadata": {
  "kernelspec": {
   "display_name": "Python 3 (ipykernel)",
   "language": "python",
   "name": "python3"
  },
  "language_info": {
   "codemirror_mode": {
    "name": "ipython",
    "version": 3
   },
   "file_extension": ".py",
   "mimetype": "text/x-python",
   "name": "python",
   "nbconvert_exporter": "python",
   "pygments_lexer": "ipython3",
   "version": "3.8.0"
  }
 },
 "nbformat": 4,
 "nbformat_minor": 5
}
